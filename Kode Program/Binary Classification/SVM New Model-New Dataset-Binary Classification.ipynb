{
 "cells": [
  {
   "cell_type": "code",
   "execution_count": 1,
   "metadata": {
    "collapsed": false
   },
   "outputs": [],
   "source": [
    "import numpy as np\n",
    "import pandas as pd\n",
    "# To calculate the accuracy score of the model\n",
    "from sklearn.metrics import accuracy_score\n",
    "import sklearn.metrics\n",
    "from sklearn import svm"
   ]
  },
  {
   "cell_type": "code",
   "execution_count": 2,
   "metadata": {
    "collapsed": false
   },
   "outputs": [
    {
     "data": {
      "text/html": [
       "<div>\n",
       "<table border=\"1\" class=\"dataframe\">\n",
       "  <thead>\n",
       "    <tr style=\"text-align: right;\">\n",
       "      <th></th>\n",
       "      <th>UNIT 1</th>\n",
       "      <th>UNIT 2</th>\n",
       "      <th>UNIT 3</th>\n",
       "      <th>UNIT 4</th>\n",
       "      <th>UNIT 5</th>\n",
       "      <th>UNIT 6</th>\n",
       "      <th>UNIT 7</th>\n",
       "      <th>UNIT 8</th>\n",
       "      <th>Rata - Rata Nilai</th>\n",
       "      <th>Responsi</th>\n",
       "      <th>Nilai Akhir</th>\n",
       "      <th>Grade</th>\n",
       "    </tr>\n",
       "  </thead>\n",
       "  <tbody>\n",
       "    <tr>\n",
       "      <th>0</th>\n",
       "      <td>39.00</td>\n",
       "      <td>61.45</td>\n",
       "      <td>55.20</td>\n",
       "      <td>52.25</td>\n",
       "      <td>45.25</td>\n",
       "      <td>44.85</td>\n",
       "      <td>60.18</td>\n",
       "      <td>51.79</td>\n",
       "      <td>51.24625</td>\n",
       "      <td>11.25</td>\n",
       "      <td>62.49625</td>\n",
       "      <td>C+</td>\n",
       "    </tr>\n",
       "    <tr>\n",
       "      <th>1</th>\n",
       "      <td>0.00</td>\n",
       "      <td>0.00</td>\n",
       "      <td>60.80</td>\n",
       "      <td>0.00</td>\n",
       "      <td>27.00</td>\n",
       "      <td>57.45</td>\n",
       "      <td>25.00</td>\n",
       "      <td>25.50</td>\n",
       "      <td>24.46875</td>\n",
       "      <td>0.00</td>\n",
       "      <td>24.46875</td>\n",
       "      <td>E</td>\n",
       "    </tr>\n",
       "    <tr>\n",
       "      <th>2</th>\n",
       "      <td>47.00</td>\n",
       "      <td>60.55</td>\n",
       "      <td>59.49</td>\n",
       "      <td>56.65</td>\n",
       "      <td>47.95</td>\n",
       "      <td>47.95</td>\n",
       "      <td>60.31</td>\n",
       "      <td>54.60</td>\n",
       "      <td>54.31250</td>\n",
       "      <td>9.00</td>\n",
       "      <td>63.31250</td>\n",
       "      <td>C+</td>\n",
       "    </tr>\n",
       "    <tr>\n",
       "      <th>3</th>\n",
       "      <td>54.75</td>\n",
       "      <td>0.00</td>\n",
       "      <td>0.00</td>\n",
       "      <td>0.00</td>\n",
       "      <td>27.25</td>\n",
       "      <td>57.85</td>\n",
       "      <td>0.00</td>\n",
       "      <td>24.50</td>\n",
       "      <td>20.54375</td>\n",
       "      <td>6.75</td>\n",
       "      <td>27.29375</td>\n",
       "      <td>E</td>\n",
       "    </tr>\n",
       "    <tr>\n",
       "      <th>4</th>\n",
       "      <td>59.40</td>\n",
       "      <td>59.10</td>\n",
       "      <td>53.00</td>\n",
       "      <td>59.20</td>\n",
       "      <td>61.10</td>\n",
       "      <td>60.80</td>\n",
       "      <td>52.52</td>\n",
       "      <td>56.72</td>\n",
       "      <td>57.73000</td>\n",
       "      <td>8.00</td>\n",
       "      <td>65.73000</td>\n",
       "      <td>B-</td>\n",
       "    </tr>\n",
       "  </tbody>\n",
       "</table>\n",
       "</div>"
      ],
      "text/plain": [
       "   UNIT 1  UNIT 2  UNIT 3  UNIT 4  UNIT 5  UNIT 6  UNIT 7  UNIT 8  \\\n",
       "0   39.00   61.45   55.20   52.25   45.25   44.85   60.18   51.79   \n",
       "1    0.00    0.00   60.80    0.00   27.00   57.45   25.00   25.50   \n",
       "2   47.00   60.55   59.49   56.65   47.95   47.95   60.31   54.60   \n",
       "3   54.75    0.00    0.00    0.00   27.25   57.85    0.00   24.50   \n",
       "4   59.40   59.10   53.00   59.20   61.10   60.80   52.52   56.72   \n",
       "\n",
       "   Rata - Rata Nilai  Responsi   Nilai Akhir Grade  \n",
       "0           51.24625      11.25     62.49625    C+  \n",
       "1           24.46875       0.00     24.46875     E  \n",
       "2           54.31250       9.00     63.31250    C+  \n",
       "3           20.54375       6.75     27.29375     E  \n",
       "4           57.73000       8.00     65.73000    B-  "
      ]
     },
     "execution_count": 2,
     "metadata": {},
     "output_type": "execute_result"
    }
   ],
   "source": [
    "df = pd.read_excel(r'''D:\\RAPHAEL\\semester 7\\machine learning\\File pelaksanaan\\Rekapitulasi Nilai Praktikum Dasar Sistem Kendali 2021(FIX3).xlsx''')\n",
    "df.head()\n"
   ]
  },
  {
   "cell_type": "code",
   "execution_count": 3,
   "metadata": {
    "collapsed": false
   },
   "outputs": [
    {
     "data": {
      "text/html": [
       "<div>\n",
       "<table border=\"1\" class=\"dataframe\">\n",
       "  <thead>\n",
       "    <tr style=\"text-align: right;\">\n",
       "      <th></th>\n",
       "      <th>UNIT 1</th>\n",
       "      <th>UNIT 2</th>\n",
       "      <th>UNIT 3</th>\n",
       "      <th>UNIT 4</th>\n",
       "      <th>UNIT 5</th>\n",
       "      <th>UNIT 6</th>\n",
       "      <th>UNIT 7</th>\n",
       "      <th>UNIT 8</th>\n",
       "      <th>Responsi</th>\n",
       "      <th>Nilai Akhir</th>\n",
       "    </tr>\n",
       "  </thead>\n",
       "  <tbody>\n",
       "    <tr>\n",
       "      <th>0</th>\n",
       "      <td>39.00</td>\n",
       "      <td>61.45</td>\n",
       "      <td>55.20</td>\n",
       "      <td>52.25</td>\n",
       "      <td>45.25</td>\n",
       "      <td>44.85</td>\n",
       "      <td>60.18</td>\n",
       "      <td>51.79</td>\n",
       "      <td>11.25</td>\n",
       "      <td>62.49625</td>\n",
       "    </tr>\n",
       "    <tr>\n",
       "      <th>1</th>\n",
       "      <td>0.00</td>\n",
       "      <td>0.00</td>\n",
       "      <td>60.80</td>\n",
       "      <td>0.00</td>\n",
       "      <td>27.00</td>\n",
       "      <td>57.45</td>\n",
       "      <td>25.00</td>\n",
       "      <td>25.50</td>\n",
       "      <td>0.00</td>\n",
       "      <td>24.46875</td>\n",
       "    </tr>\n",
       "    <tr>\n",
       "      <th>2</th>\n",
       "      <td>47.00</td>\n",
       "      <td>60.55</td>\n",
       "      <td>59.49</td>\n",
       "      <td>56.65</td>\n",
       "      <td>47.95</td>\n",
       "      <td>47.95</td>\n",
       "      <td>60.31</td>\n",
       "      <td>54.60</td>\n",
       "      <td>9.00</td>\n",
       "      <td>63.31250</td>\n",
       "    </tr>\n",
       "    <tr>\n",
       "      <th>3</th>\n",
       "      <td>54.75</td>\n",
       "      <td>0.00</td>\n",
       "      <td>0.00</td>\n",
       "      <td>0.00</td>\n",
       "      <td>27.25</td>\n",
       "      <td>57.85</td>\n",
       "      <td>0.00</td>\n",
       "      <td>24.50</td>\n",
       "      <td>6.75</td>\n",
       "      <td>27.29375</td>\n",
       "    </tr>\n",
       "    <tr>\n",
       "      <th>4</th>\n",
       "      <td>59.40</td>\n",
       "      <td>59.10</td>\n",
       "      <td>53.00</td>\n",
       "      <td>59.20</td>\n",
       "      <td>61.10</td>\n",
       "      <td>60.80</td>\n",
       "      <td>52.52</td>\n",
       "      <td>56.72</td>\n",
       "      <td>8.00</td>\n",
       "      <td>65.73000</td>\n",
       "    </tr>\n",
       "  </tbody>\n",
       "</table>\n",
       "</div>"
      ],
      "text/plain": [
       "   UNIT 1  UNIT 2  UNIT 3  UNIT 4  UNIT 5  UNIT 6  UNIT 7  UNIT 8  Responsi   \\\n",
       "0   39.00   61.45   55.20   52.25   45.25   44.85   60.18   51.79      11.25   \n",
       "1    0.00    0.00   60.80    0.00   27.00   57.45   25.00   25.50       0.00   \n",
       "2   47.00   60.55   59.49   56.65   47.95   47.95   60.31   54.60       9.00   \n",
       "3   54.75    0.00    0.00    0.00   27.25   57.85    0.00   24.50       6.75   \n",
       "4   59.40   59.10   53.00   59.20   61.10   60.80   52.52   56.72       8.00   \n",
       "\n",
       "   Nilai Akhir  \n",
       "0     62.49625  \n",
       "1     24.46875  \n",
       "2     63.31250  \n",
       "3     27.29375  \n",
       "4     65.73000  "
      ]
     },
     "execution_count": 3,
     "metadata": {},
     "output_type": "execute_result"
    }
   ],
   "source": [
    "df = df.drop([ 'Grade', 'Rata - Rata Nilai'],axis='columns')\n",
    "df.head()"
   ]
  },
  {
   "cell_type": "code",
   "execution_count": 4,
   "metadata": {
    "collapsed": false
   },
   "outputs": [],
   "source": [
    "conditions = [\n",
    "    (df['Nilai Akhir'] <= 49),\n",
    "    (df['Nilai Akhir'] >= 50)\n",
    "    ]"
   ]
  },
  {
   "cell_type": "code",
   "execution_count": 5,
   "metadata": {
    "collapsed": false
   },
   "outputs": [
    {
     "data": {
      "text/html": [
       "<div>\n",
       "<table border=\"1\" class=\"dataframe\">\n",
       "  <thead>\n",
       "    <tr style=\"text-align: right;\">\n",
       "      <th></th>\n",
       "      <th>UNIT 1</th>\n",
       "      <th>UNIT 2</th>\n",
       "      <th>UNIT 3</th>\n",
       "      <th>UNIT 4</th>\n",
       "      <th>UNIT 5</th>\n",
       "      <th>UNIT 6</th>\n",
       "      <th>UNIT 7</th>\n",
       "      <th>UNIT 8</th>\n",
       "      <th>Responsi</th>\n",
       "      <th>Nilai Akhir</th>\n",
       "      <th>Status</th>\n",
       "    </tr>\n",
       "  </thead>\n",
       "  <tbody>\n",
       "    <tr>\n",
       "      <th>0</th>\n",
       "      <td>39.00</td>\n",
       "      <td>61.45</td>\n",
       "      <td>55.20</td>\n",
       "      <td>52.25</td>\n",
       "      <td>45.25</td>\n",
       "      <td>44.85</td>\n",
       "      <td>60.18</td>\n",
       "      <td>51.79</td>\n",
       "      <td>11.25</td>\n",
       "      <td>62.49625</td>\n",
       "      <td>1</td>\n",
       "    </tr>\n",
       "    <tr>\n",
       "      <th>1</th>\n",
       "      <td>0.00</td>\n",
       "      <td>0.00</td>\n",
       "      <td>60.80</td>\n",
       "      <td>0.00</td>\n",
       "      <td>27.00</td>\n",
       "      <td>57.45</td>\n",
       "      <td>25.00</td>\n",
       "      <td>25.50</td>\n",
       "      <td>0.00</td>\n",
       "      <td>24.46875</td>\n",
       "      <td>0</td>\n",
       "    </tr>\n",
       "    <tr>\n",
       "      <th>2</th>\n",
       "      <td>47.00</td>\n",
       "      <td>60.55</td>\n",
       "      <td>59.49</td>\n",
       "      <td>56.65</td>\n",
       "      <td>47.95</td>\n",
       "      <td>47.95</td>\n",
       "      <td>60.31</td>\n",
       "      <td>54.60</td>\n",
       "      <td>9.00</td>\n",
       "      <td>63.31250</td>\n",
       "      <td>1</td>\n",
       "    </tr>\n",
       "    <tr>\n",
       "      <th>3</th>\n",
       "      <td>54.75</td>\n",
       "      <td>0.00</td>\n",
       "      <td>0.00</td>\n",
       "      <td>0.00</td>\n",
       "      <td>27.25</td>\n",
       "      <td>57.85</td>\n",
       "      <td>0.00</td>\n",
       "      <td>24.50</td>\n",
       "      <td>6.75</td>\n",
       "      <td>27.29375</td>\n",
       "      <td>0</td>\n",
       "    </tr>\n",
       "    <tr>\n",
       "      <th>4</th>\n",
       "      <td>59.40</td>\n",
       "      <td>59.10</td>\n",
       "      <td>53.00</td>\n",
       "      <td>59.20</td>\n",
       "      <td>61.10</td>\n",
       "      <td>60.80</td>\n",
       "      <td>52.52</td>\n",
       "      <td>56.72</td>\n",
       "      <td>8.00</td>\n",
       "      <td>65.73000</td>\n",
       "      <td>1</td>\n",
       "    </tr>\n",
       "  </tbody>\n",
       "</table>\n",
       "</div>"
      ],
      "text/plain": [
       "   UNIT 1  UNIT 2  UNIT 3  UNIT 4  UNIT 5  UNIT 6  UNIT 7  UNIT 8  Responsi   \\\n",
       "0   39.00   61.45   55.20   52.25   45.25   44.85   60.18   51.79      11.25   \n",
       "1    0.00    0.00   60.80    0.00   27.00   57.45   25.00   25.50       0.00   \n",
       "2   47.00   60.55   59.49   56.65   47.95   47.95   60.31   54.60       9.00   \n",
       "3   54.75    0.00    0.00    0.00   27.25   57.85    0.00   24.50       6.75   \n",
       "4   59.40   59.10   53.00   59.20   61.10   60.80   52.52   56.72       8.00   \n",
       "\n",
       "   Nilai Akhir  Status  \n",
       "0     62.49625       1  \n",
       "1     24.46875       0  \n",
       "2     63.31250       1  \n",
       "3     27.29375       0  \n",
       "4     65.73000       1  "
      ]
     },
     "execution_count": 5,
     "metadata": {},
     "output_type": "execute_result"
    }
   ],
   "source": [
    "values = [0, 1]\n",
    "df['Status'] = np.select(conditions, values)\n",
    "df.head()"
   ]
  },
  {
   "cell_type": "code",
   "execution_count": 6,
   "metadata": {
    "collapsed": false
   },
   "outputs": [
    {
     "data": {
      "text/plain": [
       "1    225\n",
       "0     44\n",
       "Name: Status, dtype: int64"
      ]
     },
     "execution_count": 6,
     "metadata": {},
     "output_type": "execute_result"
    }
   ],
   "source": [
    "# jumlah data 1 dan 0 pada target\n",
    "df['Status'].value_counts()"
   ]
  },
  {
   "cell_type": "code",
   "execution_count": 7,
   "metadata": {
    "collapsed": false
   },
   "outputs": [
    {
     "data": {
      "text/html": [
       "<div>\n",
       "<table border=\"1\" class=\"dataframe\">\n",
       "  <thead>\n",
       "    <tr style=\"text-align: right;\">\n",
       "      <th></th>\n",
       "      <th>UNIT 1</th>\n",
       "      <th>UNIT 2</th>\n",
       "      <th>UNIT 3</th>\n",
       "      <th>UNIT 4</th>\n",
       "      <th>UNIT 5</th>\n",
       "      <th>UNIT 6</th>\n",
       "      <th>UNIT 7</th>\n",
       "      <th>UNIT 8</th>\n",
       "      <th>Responsi</th>\n",
       "      <th>Nilai Akhir</th>\n",
       "    </tr>\n",
       "  </thead>\n",
       "  <tbody>\n",
       "    <tr>\n",
       "      <th>0</th>\n",
       "      <td>39.00</td>\n",
       "      <td>61.45</td>\n",
       "      <td>55.20</td>\n",
       "      <td>52.25</td>\n",
       "      <td>45.25</td>\n",
       "      <td>44.85</td>\n",
       "      <td>60.18</td>\n",
       "      <td>51.79</td>\n",
       "      <td>11.25</td>\n",
       "      <td>62.49625</td>\n",
       "    </tr>\n",
       "    <tr>\n",
       "      <th>1</th>\n",
       "      <td>0.00</td>\n",
       "      <td>0.00</td>\n",
       "      <td>60.80</td>\n",
       "      <td>0.00</td>\n",
       "      <td>27.00</td>\n",
       "      <td>57.45</td>\n",
       "      <td>25.00</td>\n",
       "      <td>25.50</td>\n",
       "      <td>0.00</td>\n",
       "      <td>24.46875</td>\n",
       "    </tr>\n",
       "    <tr>\n",
       "      <th>2</th>\n",
       "      <td>47.00</td>\n",
       "      <td>60.55</td>\n",
       "      <td>59.49</td>\n",
       "      <td>56.65</td>\n",
       "      <td>47.95</td>\n",
       "      <td>47.95</td>\n",
       "      <td>60.31</td>\n",
       "      <td>54.60</td>\n",
       "      <td>9.00</td>\n",
       "      <td>63.31250</td>\n",
       "    </tr>\n",
       "    <tr>\n",
       "      <th>3</th>\n",
       "      <td>54.75</td>\n",
       "      <td>0.00</td>\n",
       "      <td>0.00</td>\n",
       "      <td>0.00</td>\n",
       "      <td>27.25</td>\n",
       "      <td>57.85</td>\n",
       "      <td>0.00</td>\n",
       "      <td>24.50</td>\n",
       "      <td>6.75</td>\n",
       "      <td>27.29375</td>\n",
       "    </tr>\n",
       "    <tr>\n",
       "      <th>4</th>\n",
       "      <td>59.40</td>\n",
       "      <td>59.10</td>\n",
       "      <td>53.00</td>\n",
       "      <td>59.20</td>\n",
       "      <td>61.10</td>\n",
       "      <td>60.80</td>\n",
       "      <td>52.52</td>\n",
       "      <td>56.72</td>\n",
       "      <td>8.00</td>\n",
       "      <td>65.73000</td>\n",
       "    </tr>\n",
       "  </tbody>\n",
       "</table>\n",
       "</div>"
      ],
      "text/plain": [
       "   UNIT 1  UNIT 2  UNIT 3  UNIT 4  UNIT 5  UNIT 6  UNIT 7  UNIT 8  Responsi   \\\n",
       "0   39.00   61.45   55.20   52.25   45.25   44.85   60.18   51.79      11.25   \n",
       "1    0.00    0.00   60.80    0.00   27.00   57.45   25.00   25.50       0.00   \n",
       "2   47.00   60.55   59.49   56.65   47.95   47.95   60.31   54.60       9.00   \n",
       "3   54.75    0.00    0.00    0.00   27.25   57.85    0.00   24.50       6.75   \n",
       "4   59.40   59.10   53.00   59.20   61.10   60.80   52.52   56.72       8.00   \n",
       "\n",
       "   Nilai Akhir  \n",
       "0     62.49625  \n",
       "1     24.46875  \n",
       "2     63.31250  \n",
       "3     27.29375  \n",
       "4     65.73000  "
      ]
     },
     "execution_count": 7,
     "metadata": {},
     "output_type": "execute_result"
    }
   ],
   "source": [
    "inputs = df.drop('Status',axis='columns')\n",
    "target = df['Status']\n",
    "inputs.head()"
   ]
  },
  {
   "cell_type": "code",
   "execution_count": 8,
   "metadata": {
    "collapsed": false
   },
   "outputs": [
    {
     "data": {
      "text/plain": [
       "0    1\n",
       "1    0\n",
       "2    1\n",
       "3    0\n",
       "4    1\n",
       "Name: Status, dtype: int32"
      ]
     },
     "execution_count": 8,
     "metadata": {},
     "output_type": "execute_result"
    }
   ],
   "source": [
    "target.head()"
   ]
  },
  {
   "cell_type": "code",
   "execution_count": 9,
   "metadata": {
    "collapsed": false
   },
   "outputs": [],
   "source": [
    "from sklearn.model_selection import train_test_split # Import train_test_split function\n",
    "pred_train, pred_test, tar_train, tar_test = train_test_split(inputs, target, test_size=0.25)\n"
   ]
  },
  {
   "cell_type": "code",
   "execution_count": 10,
   "metadata": {
    "collapsed": false
   },
   "outputs": [
    {
     "data": {
      "text/plain": [
       "(201, 10)"
      ]
     },
     "execution_count": 10,
     "metadata": {},
     "output_type": "execute_result"
    }
   ],
   "source": [
    "pred_train.shape"
   ]
  },
  {
   "cell_type": "code",
   "execution_count": 11,
   "metadata": {
    "collapsed": false
   },
   "outputs": [
    {
     "data": {
      "text/plain": [
       "(68, 10)"
      ]
     },
     "execution_count": 11,
     "metadata": {},
     "output_type": "execute_result"
    }
   ],
   "source": [
    "pred_test.shape"
   ]
  },
  {
   "cell_type": "code",
   "execution_count": 12,
   "metadata": {
    "collapsed": false
   },
   "outputs": [
    {
     "data": {
      "text/plain": [
       "(201,)"
      ]
     },
     "execution_count": 12,
     "metadata": {},
     "output_type": "execute_result"
    }
   ],
   "source": [
    "tar_train.shape"
   ]
  },
  {
   "cell_type": "code",
   "execution_count": 13,
   "metadata": {
    "collapsed": false
   },
   "outputs": [
    {
     "data": {
      "text/plain": [
       "(68,)"
      ]
     },
     "execution_count": 13,
     "metadata": {},
     "output_type": "execute_result"
    }
   ],
   "source": [
    "tar_test.shape"
   ]
  },
  {
   "cell_type": "code",
   "execution_count": 15,
   "metadata": {
    "collapsed": true
   },
   "outputs": [],
   "source": [
    "from sklearn.model_selection import cross_val_score"
   ]
  },
  {
   "cell_type": "code",
   "execution_count": 25,
   "metadata": {
    "collapsed": false
   },
   "outputs": [
    {
     "data": {
      "text/plain": [
       "array([ 0.87037037,  0.87037037,  0.87037037,  0.83333333,  0.8490566 ])"
      ]
     },
     "execution_count": 25,
     "metadata": {},
     "output_type": "execute_result"
    }
   ],
   "source": [
    "#perhitungan dengan cv = 5\n",
    "cv5=cross_val_score(svm.SVC(C=1.0, cache_size=200, class_weight=None, coef0=0.0,\n",
    "  decision_function_shape=None, degree=3, gamma='auto', kernel='rbf',\n",
    "  max_iter=-1, probability=False, random_state=None, shrinking=True,\n",
    "  tol=0.001, verbose=False), inputs, target,cv=5)\n",
    "cv5"
   ]
  },
  {
   "cell_type": "code",
   "execution_count": 26,
   "metadata": {
    "collapsed": false
   },
   "outputs": [
    {
     "data": {
      "text/plain": [
       "0.85870020964360583"
      ]
     },
     "execution_count": 26,
     "metadata": {},
     "output_type": "execute_result"
    }
   ],
   "source": [
    "import statistics\n",
    "x=statistics.mean(cv5)\n",
    "x"
   ]
  },
  {
   "cell_type": "code",
   "execution_count": 27,
   "metadata": {
    "collapsed": false
   },
   "outputs": [
    {
     "data": {
      "text/plain": [
       "array([ 0.85714286,  0.85714286,  0.89285714,  0.85714286,  0.88888889,\n",
       "        0.84615385,  0.84615385,  0.84615385,  0.84615385,  0.84615385])"
      ]
     },
     "execution_count": 27,
     "metadata": {},
     "output_type": "execute_result"
    }
   ],
   "source": [
    "#perhitungan dengan cv = 10\n",
    "cv10=cross_val_score(svm.SVC(C=1.0, cache_size=200, class_weight=None, coef0=0.0,\n",
    "  decision_function_shape=None, degree=3, gamma='auto', kernel='rbf',\n",
    "  max_iter=-1, probability=False, random_state=None, shrinking=True,\n",
    "  tol=0.001, verbose=False), inputs, target,cv=10)\n",
    "cv10"
   ]
  },
  {
   "cell_type": "code",
   "execution_count": 28,
   "metadata": {
    "collapsed": false
   },
   "outputs": [
    {
     "data": {
      "text/plain": [
       "0.85839438339438334"
      ]
     },
     "execution_count": 28,
     "metadata": {},
     "output_type": "execute_result"
    }
   ],
   "source": [
    "y=statistics.mean(cv10)\n",
    "y"
   ]
  },
  {
   "cell_type": "code",
   "execution_count": 29,
   "metadata": {
    "collapsed": false
   },
   "outputs": [
    {
     "data": {
      "text/plain": [
       "SVC(C=1.0, cache_size=200, class_weight=None, coef0=0.0,\n",
       "  decision_function_shape=None, degree=3, gamma='auto', kernel='rbf',\n",
       "  max_iter=-1, probability=False, random_state=None, shrinking=True,\n",
       "  tol=0.001, verbose=False)"
      ]
     },
     "execution_count": 29,
     "metadata": {},
     "output_type": "execute_result"
    }
   ],
   "source": [
    "model = svm.SVC(C=1.0, cache_size=200, class_weight=None, coef0=0.0,\n",
    "  decision_function_shape=None, degree=3, gamma='auto', kernel='rbf',\n",
    "  max_iter=-1, probability=False, random_state=None, shrinking=True,\n",
    "  tol=0.001, verbose=False)\n",
    "classifier = model.fit(pred_train,tar_train)\n",
    "classifier"
   ]
  },
  {
   "cell_type": "code",
   "execution_count": 31,
   "metadata": {
    "collapsed": false
   },
   "outputs": [
    {
     "data": {
      "text/plain": [
       "{'C': 1.0,\n",
       " 'cache_size': 200,\n",
       " 'class_weight': None,\n",
       " 'coef0': 0.0,\n",
       " 'decision_function_shape': None,\n",
       " 'degree': 3,\n",
       " 'gamma': 'auto',\n",
       " 'kernel': 'rbf',\n",
       " 'max_iter': -1,\n",
       " 'probability': False,\n",
       " 'random_state': None,\n",
       " 'shrinking': True,\n",
       " 'tol': 0.001,\n",
       " 'verbose': False}"
      ]
     },
     "execution_count": 31,
     "metadata": {},
     "output_type": "execute_result"
    }
   ],
   "source": [
    "classifier.get_params()"
   ]
  },
  {
   "cell_type": "code",
   "execution_count": 32,
   "metadata": {
    "collapsed": false
   },
   "outputs": [
    {
     "data": {
      "text/plain": [
       "array([1, 1, 1, 1, 1, 1, 1, 1, 1, 1, 1, 1, 1, 1, 1, 1, 1, 1, 1, 1, 1, 1, 1,\n",
       "       1, 1, 1, 1, 1, 1, 1, 1, 1, 1, 1, 1, 1, 1, 1, 1, 1, 1, 1, 1, 1, 1, 1,\n",
       "       1, 1, 1, 0, 1, 1, 1, 1, 1, 1, 1, 1, 1, 1, 1, 1, 1, 1, 1, 1, 1, 1])"
      ]
     },
     "execution_count": 32,
     "metadata": {},
     "output_type": "execute_result"
    }
   ],
   "source": [
    "predictions = classifier.predict(pred_test)\n",
    "predictions"
   ]
  },
  {
   "cell_type": "code",
   "execution_count": 33,
   "metadata": {
    "collapsed": false
   },
   "outputs": [
    {
     "name": "stdout",
     "output_type": "stream",
     "text": [
      "accuracy of training dataset is1.00\n",
      "accuracy of test dataset is 0.94\n",
      "Accuracy is 0.941176470588\n"
     ]
    }
   ],
   "source": [
    "print(\"accuracy of training dataset is{:.2f}\".format(classifier.score(pred_train,tar_train)))\n",
    "print(\"accuracy of test dataset is {:.2f}\".format(classifier.score(pred_test,tar_test)))\n",
    "#accuracy\n",
    "print(\"Accuracy is\",accuracy_score(tar_test, predictions, normalize = True))"
   ]
  },
  {
   "cell_type": "code",
   "execution_count": 34,
   "metadata": {
    "collapsed": false
   },
   "outputs": [
    {
     "data": {
      "text/plain": [
       "array([1])"
      ]
     },
     "execution_count": 34,
     "metadata": {},
     "output_type": "execute_result"
    }
   ],
   "source": [
    "xx = model.predict([[47,55,59,56,47,47,60,54,54,56]])\n",
    "xx"
   ]
  },
  {
   "cell_type": "code",
   "execution_count": 35,
   "metadata": {
    "collapsed": false
   },
   "outputs": [
    {
     "name": "stdout",
     "output_type": "stream",
     "text": [
      "Lulus \n"
     ]
    }
   ],
   "source": [
    "if xx == 1:\n",
    "   print (\"Lulus \")\n",
    "else:\n",
    "   print (\"TIdak Lulus \")\n"
   ]
  },
  {
   "cell_type": "code",
   "execution_count": 36,
   "metadata": {
    "collapsed": false
   },
   "outputs": [
    {
     "data": {
      "text/plain": [
       "1    63\n",
       "0     5\n",
       "Name: Status, dtype: int64"
      ]
     },
     "execution_count": 36,
     "metadata": {},
     "output_type": "execute_result"
    }
   ],
   "source": [
    "# sebaran nilai pada tar_test(datatest)\n",
    "tar_test.value_counts()"
   ]
  },
  {
   "cell_type": "code",
   "execution_count": 37,
   "metadata": {
    "collapsed": false
   },
   "outputs": [
    {
     "data": {
      "text/plain": [
       "1    0.926471\n",
       "Name: Status, dtype: float64"
      ]
     },
     "execution_count": 37,
     "metadata": {},
     "output_type": "execute_result"
    }
   ],
   "source": [
    "#rata-rata data tar_test\n",
    "tar_test.value_counts().head(1) / len(tar_test)"
   ]
  },
  {
   "cell_type": "code",
   "execution_count": 38,
   "metadata": {
    "collapsed": false
   },
   "outputs": [
    {
     "data": {
      "text/plain": [
       "<matplotlib.text.Text at 0x1ce95326dd8>"
      ]
     },
     "execution_count": 38,
     "metadata": {},
     "output_type": "execute_result"
    },
    {
     "data": {
      "image/png": "[encoded data removed]",
      "text/plain": [
       "<matplotlib.figure.Figure at 0x1ce95267f28>"
      ]
     },
     "metadata": {},
     "output_type": "display_data"
    }
   ],
   "source": [
    "#Pengambaran histogram hasil prediksi data\n",
    "%matplotlib inline\n",
    "import matplotlib.pyplot as plt\n",
    "\n",
    "plt.hist(predictions, bins=9)\n",
    "plt.xlim(0, 7)\n",
    "plt.title('Histogram of predicted probabilities')\n",
    "plt.xlabel('Predicted probability of Grade')\n",
    "plt.ylabel('Frequency')"
   ]
  },
  {
   "cell_type": "code",
   "execution_count": 39,
   "metadata": {
    "collapsed": false
   },
   "outputs": [
    {
     "name": "stdout",
     "output_type": "stream",
     "text": [
      "True: [1 1 1 1 1 1 1 1 1 1 0 1 1 1 1 1 1 1 1 1 1 1 1 1 1]\n",
      "Pred: [1 1 1 1 1 1 1 1 1 1 1 1 1 1 1 1 1 1 1 1 1 1 1 1 1]\n"
     ]
    }
   ],
   "source": [
    "# Prediksi dari 25 data awal\n",
    "print('True:', tar_test.values[0:25])\n",
    "print('Pred:', predictions[0:25])"
   ]
  },
  {
   "cell_type": "code",
   "execution_count": 40,
   "metadata": {
    "collapsed": false
   },
   "outputs": [
    {
     "name": "stdout",
     "output_type": "stream",
     "text": [
      "0.941176470588\n"
     ]
    }
   ],
   "source": [
    "#Confusion Matrix\n",
    "from sklearn import metrics\n",
    "print(metrics.accuracy_score(tar_test, predictions))"
   ]
  },
  {
   "cell_type": "code",
   "execution_count": 41,
   "metadata": {
    "collapsed": false
   },
   "outputs": [
    {
     "name": "stdout",
     "output_type": "stream",
     "text": [
      "[[ 1  4]\n",
      " [ 0 63]]\n"
     ]
    }
   ],
   "source": [
    "print(metrics.confusion_matrix(tar_test,predictions))"
   ]
  }
 ],
 "metadata": {
  "anaconda-cloud": {},
  "kernelspec": {
   "display_name": "Python [conda root]",
   "language": "python",
   "name": "conda-root-py"
  },
  "language_info": {
   "codemirror_mode": {
    "name": "ipython",
    "version": 3
   },
   "file_extension": ".py",
   "mimetype": "text/x-python",
   "name": "python",
   "nbconvert_exporter": "python",
   "pygments_lexer": "ipython3",
   "version": "3.5.2"
  }
 },
 "nbformat": 4,
 "nbformat_minor": 1
}
