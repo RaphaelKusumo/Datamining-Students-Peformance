{
 "cells": [
  {
   "cell_type": "code",
   "execution_count": 87,
   "metadata": {
    "collapsed": false
   },
   "outputs": [],
   "source": [
    "import numpy as np\n",
    "import pandas as pd\n",
    "# To calculate the accuracy score of the model\n",
    "from sklearn.metrics import accuracy_score\n",
    "from sklearn import tree\n",
    "from sklearn.tree import DecisionTreeClassifier \n"
   ]
  },
  {
   "cell_type": "code",
   "execution_count": 88,
   "metadata": {
    "collapsed": false
   },
   "outputs": [
    {
     "data": {
      "text/html": [
       "<div>\n",
       "<table border=\"1\" class=\"dataframe\">\n",
       "  <thead>\n",
       "    <tr style=\"text-align: right;\">\n",
       "      <th></th>\n",
       "      <th>UNIT 1</th>\n",
       "      <th>UNIT 2</th>\n",
       "      <th>UNIT 3</th>\n",
       "      <th>UNIT 4</th>\n",
       "      <th>UNIT 5</th>\n",
       "      <th>UNIT 6</th>\n",
       "      <th>UNIT 7</th>\n",
       "      <th>UNIT 8</th>\n",
       "      <th>Rata - Rata Nilai</th>\n",
       "      <th>Responsi</th>\n",
       "      <th>Nilai Akhir</th>\n",
       "      <th>Grade</th>\n",
       "    </tr>\n",
       "  </thead>\n",
       "  <tbody>\n",
       "    <tr>\n",
       "      <th>0</th>\n",
       "      <td>39.00</td>\n",
       "      <td>61.45</td>\n",
       "      <td>55.20</td>\n",
       "      <td>52.25</td>\n",
       "      <td>45.25</td>\n",
       "      <td>44.85</td>\n",
       "      <td>60.18</td>\n",
       "      <td>51.79</td>\n",
       "      <td>51.24625</td>\n",
       "      <td>11.25</td>\n",
       "      <td>62.49625</td>\n",
       "      <td>C+</td>\n",
       "    </tr>\n",
       "    <tr>\n",
       "      <th>1</th>\n",
       "      <td>0.00</td>\n",
       "      <td>0.00</td>\n",
       "      <td>60.80</td>\n",
       "      <td>0.00</td>\n",
       "      <td>27.00</td>\n",
       "      <td>57.45</td>\n",
       "      <td>25.00</td>\n",
       "      <td>25.50</td>\n",
       "      <td>24.46875</td>\n",
       "      <td>0.00</td>\n",
       "      <td>24.46875</td>\n",
       "      <td>E</td>\n",
       "    </tr>\n",
       "    <tr>\n",
       "      <th>2</th>\n",
       "      <td>47.00</td>\n",
       "      <td>60.55</td>\n",
       "      <td>59.49</td>\n",
       "      <td>56.65</td>\n",
       "      <td>47.95</td>\n",
       "      <td>47.95</td>\n",
       "      <td>60.31</td>\n",
       "      <td>54.60</td>\n",
       "      <td>54.31250</td>\n",
       "      <td>9.00</td>\n",
       "      <td>63.31250</td>\n",
       "      <td>C+</td>\n",
       "    </tr>\n",
       "    <tr>\n",
       "      <th>3</th>\n",
       "      <td>54.75</td>\n",
       "      <td>0.00</td>\n",
       "      <td>0.00</td>\n",
       "      <td>0.00</td>\n",
       "      <td>27.25</td>\n",
       "      <td>57.85</td>\n",
       "      <td>0.00</td>\n",
       "      <td>24.50</td>\n",
       "      <td>20.54375</td>\n",
       "      <td>6.75</td>\n",
       "      <td>27.29375</td>\n",
       "      <td>E</td>\n",
       "    </tr>\n",
       "    <tr>\n",
       "      <th>4</th>\n",
       "      <td>59.40</td>\n",
       "      <td>59.10</td>\n",
       "      <td>53.00</td>\n",
       "      <td>59.20</td>\n",
       "      <td>61.10</td>\n",
       "      <td>60.80</td>\n",
       "      <td>52.52</td>\n",
       "      <td>56.72</td>\n",
       "      <td>57.73000</td>\n",
       "      <td>8.00</td>\n",
       "      <td>65.73000</td>\n",
       "      <td>B-</td>\n",
       "    </tr>\n",
       "  </tbody>\n",
       "</table>\n",
       "</div>"
      ],
      "text/plain": [
       "   UNIT 1  UNIT 2  UNIT 3  UNIT 4  UNIT 5  UNIT 6  UNIT 7  UNIT 8  \\\n",
       "0   39.00   61.45   55.20   52.25   45.25   44.85   60.18   51.79   \n",
       "1    0.00    0.00   60.80    0.00   27.00   57.45   25.00   25.50   \n",
       "2   47.00   60.55   59.49   56.65   47.95   47.95   60.31   54.60   \n",
       "3   54.75    0.00    0.00    0.00   27.25   57.85    0.00   24.50   \n",
       "4   59.40   59.10   53.00   59.20   61.10   60.80   52.52   56.72   \n",
       "\n",
       "   Rata - Rata Nilai  Responsi   Nilai Akhir Grade  \n",
       "0           51.24625      11.25     62.49625    C+  \n",
       "1           24.46875       0.00     24.46875     E  \n",
       "2           54.31250       9.00     63.31250    C+  \n",
       "3           20.54375       6.75     27.29375     E  \n",
       "4           57.73000       8.00     65.73000    B-  "
      ]
     },
     "execution_count": 88,
     "metadata": {},
     "output_type": "execute_result"
    }
   ],
   "source": [
    "df = pd.read_excel(r'''D:\\RAPHAEL\\semester 7\\machine learning\\File pelaksanaan\\Rekapitulasi Nilai Praktikum Dasar Sistem Kendali 2021(FIX3).xlsx''')\n",
    "df.head()\n"
   ]
  },
  {
   "cell_type": "code",
   "execution_count": 94,
   "metadata": {
    "collapsed": false
   },
   "outputs": [
    {
     "data": {
      "text/html": [
       "<div>\n",
       "<table border=\"1\" class=\"dataframe\">\n",
       "  <thead>\n",
       "    <tr style=\"text-align: right;\">\n",
       "      <th></th>\n",
       "      <th>UNIT 1</th>\n",
       "      <th>UNIT 2</th>\n",
       "      <th>UNIT 3</th>\n",
       "      <th>UNIT 4</th>\n",
       "      <th>UNIT 5</th>\n",
       "      <th>UNIT 6</th>\n",
       "      <th>UNIT 7</th>\n",
       "      <th>UNIT 8</th>\n",
       "      <th>Rata - Rata Nilai</th>\n",
       "      <th>Responsi</th>\n",
       "      <th>Nilai Akhir</th>\n",
       "      <th>Grade</th>\n",
       "      <th>Grade_n</th>\n",
       "    </tr>\n",
       "  </thead>\n",
       "  <tbody>\n",
       "    <tr>\n",
       "      <th>0</th>\n",
       "      <td>39.00</td>\n",
       "      <td>61.45</td>\n",
       "      <td>55.20</td>\n",
       "      <td>52.25</td>\n",
       "      <td>45.25</td>\n",
       "      <td>44.85</td>\n",
       "      <td>60.18</td>\n",
       "      <td>51.79</td>\n",
       "      <td>51.24625</td>\n",
       "      <td>11.25</td>\n",
       "      <td>62.49625</td>\n",
       "      <td>C+</td>\n",
       "      <td>5</td>\n",
       "    </tr>\n",
       "    <tr>\n",
       "      <th>1</th>\n",
       "      <td>0.00</td>\n",
       "      <td>0.00</td>\n",
       "      <td>60.80</td>\n",
       "      <td>0.00</td>\n",
       "      <td>27.00</td>\n",
       "      <td>57.45</td>\n",
       "      <td>25.00</td>\n",
       "      <td>25.50</td>\n",
       "      <td>24.46875</td>\n",
       "      <td>0.00</td>\n",
       "      <td>24.46875</td>\n",
       "      <td>E</td>\n",
       "      <td>7</td>\n",
       "    </tr>\n",
       "    <tr>\n",
       "      <th>2</th>\n",
       "      <td>47.00</td>\n",
       "      <td>60.55</td>\n",
       "      <td>59.49</td>\n",
       "      <td>56.65</td>\n",
       "      <td>47.95</td>\n",
       "      <td>47.95</td>\n",
       "      <td>60.31</td>\n",
       "      <td>54.60</td>\n",
       "      <td>54.31250</td>\n",
       "      <td>9.00</td>\n",
       "      <td>63.31250</td>\n",
       "      <td>C+</td>\n",
       "      <td>5</td>\n",
       "    </tr>\n",
       "    <tr>\n",
       "      <th>3</th>\n",
       "      <td>54.75</td>\n",
       "      <td>0.00</td>\n",
       "      <td>0.00</td>\n",
       "      <td>0.00</td>\n",
       "      <td>27.25</td>\n",
       "      <td>57.85</td>\n",
       "      <td>0.00</td>\n",
       "      <td>24.50</td>\n",
       "      <td>20.54375</td>\n",
       "      <td>6.75</td>\n",
       "      <td>27.29375</td>\n",
       "      <td>E</td>\n",
       "      <td>7</td>\n",
       "    </tr>\n",
       "    <tr>\n",
       "      <th>4</th>\n",
       "      <td>59.40</td>\n",
       "      <td>59.10</td>\n",
       "      <td>53.00</td>\n",
       "      <td>59.20</td>\n",
       "      <td>61.10</td>\n",
       "      <td>60.80</td>\n",
       "      <td>52.52</td>\n",
       "      <td>56.72</td>\n",
       "      <td>57.73000</td>\n",
       "      <td>8.00</td>\n",
       "      <td>65.73000</td>\n",
       "      <td>B-</td>\n",
       "      <td>3</td>\n",
       "    </tr>\n",
       "  </tbody>\n",
       "</table>\n",
       "</div>"
      ],
      "text/plain": [
       "   UNIT 1  UNIT 2  UNIT 3  UNIT 4  UNIT 5  UNIT 6  UNIT 7  UNIT 8  \\\n",
       "0   39.00   61.45   55.20   52.25   45.25   44.85   60.18   51.79   \n",
       "1    0.00    0.00   60.80    0.00   27.00   57.45   25.00   25.50   \n",
       "2   47.00   60.55   59.49   56.65   47.95   47.95   60.31   54.60   \n",
       "3   54.75    0.00    0.00    0.00   27.25   57.85    0.00   24.50   \n",
       "4   59.40   59.10   53.00   59.20   61.10   60.80   52.52   56.72   \n",
       "\n",
       "   Rata - Rata Nilai  Responsi   Nilai Akhir Grade  Grade_n  \n",
       "0           51.24625      11.25     62.49625    C+        5  \n",
       "1           24.46875       0.00     24.46875     E        7  \n",
       "2           54.31250       9.00     63.31250    C+        5  \n",
       "3           20.54375       6.75     27.29375     E        7  \n",
       "4           57.73000       8.00     65.73000    B-        3  "
      ]
     },
     "execution_count": 94,
     "metadata": {},
     "output_type": "execute_result"
    }
   ],
   "source": [
    "from sklearn.preprocessing import LabelEncoder\n",
    "le_Grade = LabelEncoder()\n",
    "df['Grade_n'] = le_Grade.fit_transform(df['Grade'])\n",
    "df.head()\n",
    "#  A- = 0, B+ = 2, B = 1, B- = 3, C+ = 5, C = 4, D = 6, E = 7"
   ]
  },
  {
   "cell_type": "code",
   "execution_count": 95,
   "metadata": {
    "collapsed": false
   },
   "outputs": [
    {
     "data": {
      "text/plain": [
       "1    74\n",
       "3    55\n",
       "7    44\n",
       "2    33\n",
       "5    24\n",
       "0    22\n",
       "4    10\n",
       "6     7\n",
       "Name: Grade_n, dtype: int64"
      ]
     },
     "execution_count": 95,
     "metadata": {},
     "output_type": "execute_result"
    }
   ],
   "source": [
    "#Sebaran data pada kolom Grade\n",
    "#  A- = 0, B+ = 2, B = 1, B- = 3, C+ = 5, C = 4, D = 6, E = 7\n",
    "df['Grade_n'].value_counts()"
   ]
  },
  {
   "cell_type": "code",
   "execution_count": 69,
   "metadata": {
    "collapsed": false
   },
   "outputs": [
    {
     "data": {
      "text/html": [
       "<div>\n",
       "<table border=\"1\" class=\"dataframe\">\n",
       "  <thead>\n",
       "    <tr style=\"text-align: right;\">\n",
       "      <th></th>\n",
       "      <th>UNIT 1</th>\n",
       "      <th>UNIT 2</th>\n",
       "      <th>UNIT 3</th>\n",
       "      <th>UNIT 4</th>\n",
       "      <th>UNIT 5</th>\n",
       "      <th>UNIT 6</th>\n",
       "      <th>UNIT 7</th>\n",
       "      <th>UNIT 8</th>\n",
       "      <th>Responsi</th>\n",
       "      <th>Nilai Akhir</th>\n",
       "      <th>Grade_n</th>\n",
       "    </tr>\n",
       "  </thead>\n",
       "  <tbody>\n",
       "    <tr>\n",
       "      <th>0</th>\n",
       "      <td>39.00</td>\n",
       "      <td>61.45</td>\n",
       "      <td>55.20</td>\n",
       "      <td>52.25</td>\n",
       "      <td>45.25</td>\n",
       "      <td>44.85</td>\n",
       "      <td>60.18</td>\n",
       "      <td>51.79</td>\n",
       "      <td>11.25</td>\n",
       "      <td>62.49625</td>\n",
       "      <td>5</td>\n",
       "    </tr>\n",
       "    <tr>\n",
       "      <th>1</th>\n",
       "      <td>0.00</td>\n",
       "      <td>0.00</td>\n",
       "      <td>60.80</td>\n",
       "      <td>0.00</td>\n",
       "      <td>27.00</td>\n",
       "      <td>57.45</td>\n",
       "      <td>25.00</td>\n",
       "      <td>25.50</td>\n",
       "      <td>0.00</td>\n",
       "      <td>24.46875</td>\n",
       "      <td>7</td>\n",
       "    </tr>\n",
       "    <tr>\n",
       "      <th>2</th>\n",
       "      <td>47.00</td>\n",
       "      <td>60.55</td>\n",
       "      <td>59.49</td>\n",
       "      <td>56.65</td>\n",
       "      <td>47.95</td>\n",
       "      <td>47.95</td>\n",
       "      <td>60.31</td>\n",
       "      <td>54.60</td>\n",
       "      <td>9.00</td>\n",
       "      <td>63.31250</td>\n",
       "      <td>5</td>\n",
       "    </tr>\n",
       "    <tr>\n",
       "      <th>3</th>\n",
       "      <td>54.75</td>\n",
       "      <td>0.00</td>\n",
       "      <td>0.00</td>\n",
       "      <td>0.00</td>\n",
       "      <td>27.25</td>\n",
       "      <td>57.85</td>\n",
       "      <td>0.00</td>\n",
       "      <td>24.50</td>\n",
       "      <td>6.75</td>\n",
       "      <td>27.29375</td>\n",
       "      <td>7</td>\n",
       "    </tr>\n",
       "    <tr>\n",
       "      <th>4</th>\n",
       "      <td>59.40</td>\n",
       "      <td>59.10</td>\n",
       "      <td>53.00</td>\n",
       "      <td>59.20</td>\n",
       "      <td>61.10</td>\n",
       "      <td>60.80</td>\n",
       "      <td>52.52</td>\n",
       "      <td>56.72</td>\n",
       "      <td>8.00</td>\n",
       "      <td>65.73000</td>\n",
       "      <td>3</td>\n",
       "    </tr>\n",
       "  </tbody>\n",
       "</table>\n",
       "</div>"
      ],
      "text/plain": [
       "   UNIT 1  UNIT 2  UNIT 3  UNIT 4  UNIT 5  UNIT 6  UNIT 7  UNIT 8  Responsi   \\\n",
       "0   39.00   61.45   55.20   52.25   45.25   44.85   60.18   51.79      11.25   \n",
       "1    0.00    0.00   60.80    0.00   27.00   57.45   25.00   25.50       0.00   \n",
       "2   47.00   60.55   59.49   56.65   47.95   47.95   60.31   54.60       9.00   \n",
       "3   54.75    0.00    0.00    0.00   27.25   57.85    0.00   24.50       6.75   \n",
       "4   59.40   59.10   53.00   59.20   61.10   60.80   52.52   56.72       8.00   \n",
       "\n",
       "   Nilai Akhir  Grade_n  \n",
       "0     62.49625        5  \n",
       "1     24.46875        7  \n",
       "2     63.31250        5  \n",
       "3     27.29375        7  \n",
       "4     65.73000        3  "
      ]
     },
     "execution_count": 69,
     "metadata": {},
     "output_type": "execute_result"
    }
   ],
   "source": [
    "df = df.drop([ 'Grade', 'Rata - Rata Nilai'],axis='columns')\n",
    "df.head()"
   ]
  },
  {
   "cell_type": "code",
   "execution_count": 70,
   "metadata": {
    "collapsed": false
   },
   "outputs": [
    {
     "data": {
      "text/html": [
       "<div>\n",
       "<table border=\"1\" class=\"dataframe\">\n",
       "  <thead>\n",
       "    <tr style=\"text-align: right;\">\n",
       "      <th></th>\n",
       "      <th>UNIT 1</th>\n",
       "      <th>UNIT 2</th>\n",
       "      <th>UNIT 3</th>\n",
       "      <th>UNIT 4</th>\n",
       "      <th>UNIT 5</th>\n",
       "      <th>UNIT 6</th>\n",
       "      <th>UNIT 7</th>\n",
       "      <th>UNIT 8</th>\n",
       "      <th>Responsi</th>\n",
       "      <th>Nilai Akhir</th>\n",
       "    </tr>\n",
       "  </thead>\n",
       "  <tbody>\n",
       "    <tr>\n",
       "      <th>0</th>\n",
       "      <td>39.00</td>\n",
       "      <td>61.45</td>\n",
       "      <td>55.20</td>\n",
       "      <td>52.25</td>\n",
       "      <td>45.25</td>\n",
       "      <td>44.85</td>\n",
       "      <td>60.18</td>\n",
       "      <td>51.79</td>\n",
       "      <td>11.25</td>\n",
       "      <td>62.49625</td>\n",
       "    </tr>\n",
       "    <tr>\n",
       "      <th>1</th>\n",
       "      <td>0.00</td>\n",
       "      <td>0.00</td>\n",
       "      <td>60.80</td>\n",
       "      <td>0.00</td>\n",
       "      <td>27.00</td>\n",
       "      <td>57.45</td>\n",
       "      <td>25.00</td>\n",
       "      <td>25.50</td>\n",
       "      <td>0.00</td>\n",
       "      <td>24.46875</td>\n",
       "    </tr>\n",
       "    <tr>\n",
       "      <th>2</th>\n",
       "      <td>47.00</td>\n",
       "      <td>60.55</td>\n",
       "      <td>59.49</td>\n",
       "      <td>56.65</td>\n",
       "      <td>47.95</td>\n",
       "      <td>47.95</td>\n",
       "      <td>60.31</td>\n",
       "      <td>54.60</td>\n",
       "      <td>9.00</td>\n",
       "      <td>63.31250</td>\n",
       "    </tr>\n",
       "    <tr>\n",
       "      <th>3</th>\n",
       "      <td>54.75</td>\n",
       "      <td>0.00</td>\n",
       "      <td>0.00</td>\n",
       "      <td>0.00</td>\n",
       "      <td>27.25</td>\n",
       "      <td>57.85</td>\n",
       "      <td>0.00</td>\n",
       "      <td>24.50</td>\n",
       "      <td>6.75</td>\n",
       "      <td>27.29375</td>\n",
       "    </tr>\n",
       "    <tr>\n",
       "      <th>4</th>\n",
       "      <td>59.40</td>\n",
       "      <td>59.10</td>\n",
       "      <td>53.00</td>\n",
       "      <td>59.20</td>\n",
       "      <td>61.10</td>\n",
       "      <td>60.80</td>\n",
       "      <td>52.52</td>\n",
       "      <td>56.72</td>\n",
       "      <td>8.00</td>\n",
       "      <td>65.73000</td>\n",
       "    </tr>\n",
       "  </tbody>\n",
       "</table>\n",
       "</div>"
      ],
      "text/plain": [
       "   UNIT 1  UNIT 2  UNIT 3  UNIT 4  UNIT 5  UNIT 6  UNIT 7  UNIT 8  Responsi   \\\n",
       "0   39.00   61.45   55.20   52.25   45.25   44.85   60.18   51.79      11.25   \n",
       "1    0.00    0.00   60.80    0.00   27.00   57.45   25.00   25.50       0.00   \n",
       "2   47.00   60.55   59.49   56.65   47.95   47.95   60.31   54.60       9.00   \n",
       "3   54.75    0.00    0.00    0.00   27.25   57.85    0.00   24.50       6.75   \n",
       "4   59.40   59.10   53.00   59.20   61.10   60.80   52.52   56.72       8.00   \n",
       "\n",
       "   Nilai Akhir  \n",
       "0     62.49625  \n",
       "1     24.46875  \n",
       "2     63.31250  \n",
       "3     27.29375  \n",
       "4     65.73000  "
      ]
     },
     "execution_count": 70,
     "metadata": {},
     "output_type": "execute_result"
    }
   ],
   "source": [
    "inputs = df.drop('Grade_n',axis='columns')\n",
    "target = df['Grade_n']\n",
    "inputs.head()"
   ]
  },
  {
   "cell_type": "code",
   "execution_count": 71,
   "metadata": {
    "collapsed": false
   },
   "outputs": [
    {
     "data": {
      "text/plain": [
       "0    5\n",
       "1    7\n",
       "2    5\n",
       "3    7\n",
       "4    3\n",
       "Name: Grade_n, dtype: int64"
      ]
     },
     "execution_count": 71,
     "metadata": {},
     "output_type": "execute_result"
    }
   ],
   "source": [
    "#  A- = 0, B+ = 2, B = 1, B- = 3, C+ = 5, C = 4, D = 6, E = 7\n",
    "target.head()"
   ]
  },
  {
   "cell_type": "code",
   "execution_count": 72,
   "metadata": {
    "collapsed": false
   },
   "outputs": [],
   "source": [
    "from sklearn.model_selection import train_test_split # Import train_test_split function\n",
    "pred_train, pred_test, tar_train, tar_test = train_test_split(inputs, target, test_size=0.25)\n"
   ]
  },
  {
   "cell_type": "code",
   "execution_count": 73,
   "metadata": {
    "collapsed": false
   },
   "outputs": [
    {
     "data": {
      "text/plain": [
       "(201, 10)"
      ]
     },
     "execution_count": 73,
     "metadata": {},
     "output_type": "execute_result"
    }
   ],
   "source": [
    "pred_train.shape"
   ]
  },
  {
   "cell_type": "code",
   "execution_count": 74,
   "metadata": {
    "collapsed": false
   },
   "outputs": [
    {
     "data": {
      "text/plain": [
       "(68, 10)"
      ]
     },
     "execution_count": 74,
     "metadata": {},
     "output_type": "execute_result"
    }
   ],
   "source": [
    "pred_test.shape"
   ]
  },
  {
   "cell_type": "code",
   "execution_count": 75,
   "metadata": {
    "collapsed": false
   },
   "outputs": [
    {
     "data": {
      "text/plain": [
       "(201,)"
      ]
     },
     "execution_count": 75,
     "metadata": {},
     "output_type": "execute_result"
    }
   ],
   "source": [
    "tar_train.shape"
   ]
  },
  {
   "cell_type": "code",
   "execution_count": 76,
   "metadata": {
    "collapsed": false
   },
   "outputs": [
    {
     "data": {
      "text/plain": [
       "(68,)"
      ]
     },
     "execution_count": 76,
     "metadata": {},
     "output_type": "execute_result"
    }
   ],
   "source": [
    "tar_test.shape"
   ]
  },
  {
   "cell_type": "code",
   "execution_count": 77,
   "metadata": {
    "collapsed": true
   },
   "outputs": [],
   "source": [
    "from sklearn.model_selection import cross_val_score"
   ]
  },
  {
   "cell_type": "code",
   "execution_count": 78,
   "metadata": {
    "collapsed": false
   },
   "outputs": [
    {
     "data": {
      "text/plain": [
       "array([ 0.98214286,  0.96428571,  0.98148148,  1.        ,  1.        ])"
      ]
     },
     "execution_count": 78,
     "metadata": {},
     "output_type": "execute_result"
    }
   ],
   "source": [
    "#perhitungan dengan cv = 5\n",
    "cross_val_score(tree.DecisionTreeClassifier(), inputs, target,cv=5)"
   ]
  },
  {
   "cell_type": "code",
   "execution_count": 79,
   "metadata": {
    "collapsed": false
   },
   "outputs": [
    {
     "name": "stderr",
     "output_type": "stream",
     "text": [
      "C:\\Program Files\\Anaconda3\\lib\\site-packages\\sklearn\\model_selection\\_split.py:581: Warning: The least populated class in y has only 7 members, which is too few. The minimum number of groups for any class cannot be less than n_splits=10.\n",
      "  % (min_groups, self.n_splits)), Warning)\n"
     ]
    },
    {
     "data": {
      "text/plain": [
       "array([ 0.96774194,  1.        ,  0.96666667,  0.93103448,  1.        ,\n",
       "        0.96      ,  1.        ,  1.        ,  1.        ,  1.        ])"
      ]
     },
     "execution_count": 79,
     "metadata": {},
     "output_type": "execute_result"
    }
   ],
   "source": [
    "#perhitungan dengan cv = 10\n",
    "cross_val_score(tree.DecisionTreeClassifier(), inputs, target,cv=10)"
   ]
  },
  {
   "cell_type": "code",
   "execution_count": 80,
   "metadata": {
    "collapsed": false
   },
   "outputs": [
    {
     "data": {
      "text/plain": [
       "DecisionTreeClassifier(class_weight=None, criterion='gini', max_depth=None,\n",
       "            max_features=None, max_leaf_nodes=None,\n",
       "            min_impurity_split=1e-07, min_samples_leaf=1,\n",
       "            min_samples_split=2, min_weight_fraction_leaf=0.0,\n",
       "            presort=False, random_state=None, splitter='best')"
      ]
     },
     "execution_count": 80,
     "metadata": {},
     "output_type": "execute_result"
    }
   ],
   "source": [
    "model = tree.DecisionTreeClassifier()\n",
    "classifier = model.fit(pred_train,tar_train)\n",
    "classifier"
   ]
  },
  {
   "cell_type": "code",
   "execution_count": 81,
   "metadata": {
    "collapsed": false
   },
   "outputs": [
    {
     "data": {
      "text/plain": [
       "array([ 0.,  0.,  0.,  0.,  0.,  0.,  0.,  0.,  0.,  1.])"
      ]
     },
     "execution_count": 81,
     "metadata": {},
     "output_type": "execute_result"
    }
   ],
   "source": [
    "# feature importance\n",
    "classifier.feature_importances_"
   ]
  },
  {
   "cell_type": "code",
   "execution_count": 83,
   "metadata": {
    "collapsed": false
   },
   "outputs": [
    {
     "data": {
      "text/plain": [
       "{'class_weight': None,\n",
       " 'criterion': 'gini',\n",
       " 'max_depth': None,\n",
       " 'max_features': None,\n",
       " 'max_leaf_nodes': None,\n",
       " 'min_impurity_split': 1e-07,\n",
       " 'min_samples_leaf': 1,\n",
       " 'min_samples_split': 2,\n",
       " 'min_weight_fraction_leaf': 0.0,\n",
       " 'presort': False,\n",
       " 'random_state': None,\n",
       " 'splitter': 'best'}"
      ]
     },
     "execution_count": 83,
     "metadata": {},
     "output_type": "execute_result"
    }
   ],
   "source": [
    "classifier.get_params()"
   ]
  },
  {
   "cell_type": "code",
   "execution_count": 84,
   "metadata": {
    "collapsed": false
   },
   "outputs": [
    {
     "data": {
      "text/plain": [
       "array([1, 0, 3, 3, 3, 2, 1, 5, 1, 3, 5, 7, 0, 2, 7, 3, 3, 7, 3, 1, 7, 1, 1,\n",
       "       3, 5, 5, 3, 7, 4, 3, 1, 7, 3, 1, 1, 0, 1, 7, 2, 7, 1, 1, 1, 3, 3, 3,\n",
       "       7, 3, 3, 1, 1, 3, 2, 0, 3, 1, 3, 5, 0, 7, 3, 2, 7, 1, 5, 1, 7, 2], dtype=int64)"
      ]
     },
     "execution_count": 84,
     "metadata": {},
     "output_type": "execute_result"
    }
   ],
   "source": [
    "#  A- = 0, B+ = 2, B = 1, B- = 3, C+ = 5, C = 4, D = 6, E = 7\n",
    "predictions = classifier.predict(pred_test)\n",
    "predictions"
   ]
  },
  {
   "cell_type": "code",
   "execution_count": 85,
   "metadata": {
    "collapsed": false
   },
   "outputs": [
    {
     "name": "stdout",
     "output_type": "stream",
     "text": [
      "accuracy of training dataset is1.00\n",
      "accuracy of test dataset is 1.00\n",
      "Accuracy is 1.0\n"
     ]
    }
   ],
   "source": [
    "print(\"accuracy of training dataset is{:.2f}\".format(classifier.score(pred_train,tar_train)))\n",
    "print(\"accuracy of test dataset is {:.2f}\".format(classifier.score(pred_test,tar_test)))\n",
    "#accuracy\n",
    "print(\"Accuracy is\",accuracy_score(tar_test, predictions, normalize = True))"
   ]
  },
  {
   "cell_type": "code",
   "execution_count": 86,
   "metadata": {
    "collapsed": false
   },
   "outputs": [
    {
     "data": {
      "text/plain": [
       "array([4], dtype=int64)"
      ]
     },
     "execution_count": 86,
     "metadata": {},
     "output_type": "execute_result"
    }
   ],
   "source": [
    "#  A- = 0, B+ = 2, B = 1, B- = 3, C+ = 5, C = 4, D = 6, E = 7\n",
    "xx = model.predict([[47,55,59,56,47,47,60,54,54,56]])\n",
    "xx"
   ]
  },
  {
   "cell_type": "code",
   "execution_count": 90,
   "metadata": {
    "collapsed": false
   },
   "outputs": [
    {
     "name": "stdout",
     "output_type": "stream",
     "text": [
      "C\n",
      "Lulus \n"
     ]
    }
   ],
   "source": [
    "#A- = 0, B+ = 2, B = 1, B- = 3, C+ = 5, C = 4, D = 6, E = 7\n",
    "if xx == 0:\n",
    "   print (\"A- \")\n",
    "elif xx == 1:\n",
    "   print (\"B \")\n",
    "elif xx == 3:\n",
    "   print (\"B-\")\n",
    "elif xx == 2:\n",
    "   print (\"B+ \")\n",
    "  \n",
    "elif xx == 4:\n",
    "   print (\"C\")\n",
    "   \n",
    "elif xx == 6:\n",
    "   print (\"D \")\n",
    "   \n",
    "elif xx == 5:\n",
    "   print (\"C+\")\n",
    "   \n",
    "elif xx == 7:\n",
    "   print (\"E\")\n",
    "   \n",
    "else:\n",
    "   print (\"A\")\n",
    "\n",
    "if xx == 6:\n",
    "   print (\"Tidak Lulus \")\n",
    "elif xx == 7:\n",
    "   print (\"Tidak Lulus\")\n",
    "else:\n",
    "   print (\"Lulus \")\n"
   ]
  },
  {
   "cell_type": "code",
   "execution_count": 97,
   "metadata": {
    "collapsed": false
   },
   "outputs": [
    {
     "data": {
      "text/plain": [
       "3    20\n",
       "1    18\n",
       "7    12\n",
       "5     6\n",
       "2     6\n",
       "0     5\n",
       "4     1\n",
       "Name: Grade_n, dtype: int64"
      ]
     },
     "execution_count": 97,
     "metadata": {},
     "output_type": "execute_result"
    }
   ],
   "source": [
    "# sebaran nilai pada tar_test(datatest)\n",
    "#  A- = 0, B+ = 2, B = 1, B- = 3, C+ = 5, C = 4, D = 6, E = 7\n",
    "tar_test.value_counts()"
   ]
  },
  {
   "cell_type": "code",
   "execution_count": 96,
   "metadata": {
    "collapsed": false
   },
   "outputs": [
    {
     "data": {
      "text/plain": [
       "3    0.294118\n",
       "Name: Grade_n, dtype: float64"
      ]
     },
     "execution_count": 96,
     "metadata": {},
     "output_type": "execute_result"
    }
   ],
   "source": [
    "#rata-rata data tar_test\n",
    "tar_test.value_counts().head(1) / len(tar_test)"
   ]
  },
  {
   "cell_type": "code",
   "execution_count": 108,
   "metadata": {
    "collapsed": false
   },
   "outputs": [
    {
     "data": {
      "text/plain": [
       "<matplotlib.text.Text at 0x2376ea3e7b8>"
      ]
     },
     "execution_count": 108,
     "metadata": {},
     "output_type": "execute_result"
    },
    {
     "data": {
      "image/png": "[encoded data removed]",
      "text/plain": [
       "<matplotlib.figure.Figure at 0x2376e9beb70>"
      ]
     },
     "metadata": {},
     "output_type": "display_data"
    }
   ],
   "source": [
    "#Pengambaran histogram hasil prediksi data\n",
    "%matplotlib inline\n",
    "import matplotlib.pyplot as plt\n",
    "\n",
    "plt.hist(predictions, bins=9)\n",
    "plt.xlim(0, 7)\n",
    "plt.title('Histogram of predicted probabilities')\n",
    "plt.xlabel('Predicted probability of Grade')\n",
    "plt.ylabel('Frequency')"
   ]
  },
  {
   "cell_type": "code",
   "execution_count": 106,
   "metadata": {
    "collapsed": false
   },
   "outputs": [
    {
     "name": "stdout",
     "output_type": "stream",
     "text": [
      "True: [1 0 3 3 3 2 1 5 1 3 5 7 0 2 7 3 3 7 3 1 7 1 1 3 5]\n",
      "Pred: [1 0 3 3 3 2 1 5 1 3 5 7 0 2 7 3 3 7 3 1 7 1 1 3 5]\n"
     ]
    }
   ],
   "source": [
    "# Prediksi dari 25 data awal\n",
    "#  A- = 0, B+ = 2, B = 1, B- = 3, C+ = 5, C = 4, D = 6, E = 7\n",
    "print('True:', tar_test.values[0:25])\n",
    "print('Pred:', predictions[0:25])"
   ]
  },
  {
   "cell_type": "code",
   "execution_count": 111,
   "metadata": {
    "collapsed": false
   },
   "outputs": [
    {
     "name": "stdout",
     "output_type": "stream",
     "text": [
      "1.0\n"
     ]
    }
   ],
   "source": [
    "#Confusion Matrix\n",
    "from sklearn import metrics\n",
    "print(metrics.accuracy_score(tar_test, predictions))"
   ]
  },
  {
   "cell_type": "code",
   "execution_count": 113,
   "metadata": {
    "collapsed": false
   },
   "outputs": [
    {
     "name": "stdout",
     "output_type": "stream",
     "text": [
      "[[ 5  0  0  0  0  0  0]\n",
      " [ 0 18  0  0  0  0  0]\n",
      " [ 0  0  6  0  0  0  0]\n",
      " [ 0  0  0 20  0  0  0]\n",
      " [ 0  0  0  0  1  0  0]\n",
      " [ 0  0  0  0  0  6  0]\n",
      " [ 0  0  0  0  0  0 12]]\n"
     ]
    }
   ],
   "source": [
    "print(metrics.confusion_matrix(tar_test,predictions))"
   ]
  }
 ],
 "metadata": {
  "anaconda-cloud": {},
  "kernelspec": {
   "display_name": "Python [conda root]",
   "language": "python",
   "name": "conda-root-py"
  },
  "language_info": {
   "codemirror_mode": {
    "name": "ipython",
    "version": 3
   },
   "file_extension": ".py",
   "mimetype": "text/x-python",
   "name": "python",
   "nbconvert_exporter": "python",
   "pygments_lexer": "ipython3",
   "version": "3.5.2"
  }
 },
 "nbformat": 4,
 "nbformat_minor": 1
}
